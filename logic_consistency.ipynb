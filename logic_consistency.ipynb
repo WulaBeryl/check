{
 "cells": [
  {
   "cell_type": "markdown",
   "id": "6d7c260a",
   "metadata": {},
   "source": [
    "# Logic Consistency\n",
    "\n"
   ]
  },
  {
   "cell_type": "markdown",
   "id": "66779d69",
   "metadata": {},
   "source": [
    "## Capability Definition\n",
    "\n",
    "\n",
    "Programming languages are Logically Consistent in the sense that the purpose of any conditional or loop condition in repetition structures can be defined in multiple ways. The truth value of any proposition can be established according to rules defined in boolean algebra.\n",
    "\n",
    "Neural Code Models should be able to perform predictions accordingly to the logic rules that have been defined in the inputs."
   ]
  },
  {
   "cell_type": "markdown",
   "id": "be0a4624",
   "metadata": {},
   "source": [
    "\n",
    "## Templates\n",
    "\n",
    "### Template for Python"
   ]
  },
  {
   "cell_type": "code",
   "execution_count": null,
   "id": "d657b50c",
   "metadata": {},
   "outputs": [],
   "source": [
    "# function definition\n",
    "def {function_name}({parameter}):\n",
    "    if {condition}:\n",
    "        {statement}\n",
    "    return {variable}"
   ]
  },
  {
   "cell_type": "markdown",
   "id": "5f760a72",
   "metadata": {},
   "source": [
    "\n",
    "### Template for Java"
   ]
  },
  {
   "cell_type": "code",
   "execution_count": null,
   "id": "2328bbd2",
   "metadata": {},
   "outputs": [],
   "source": [
    "// function definition\n",
    "{access_level} {return_type} {method_name}({data_type} {parameter}){\n",
    "    if(condition){\n",
    "        {statement};\n",
    "    }\n",
    "    return {variable};\n",
    "}"
   ]
  },
  {
   "cell_type": "markdown",
   "id": "da0eff9b",
   "metadata": {},
   "source": [
    "\n",
    "## Tests\n",
    "\n",
    "### Minimum Functionality Test (MFT)\n"
   ]
  },
  {
   "cell_type": "markdown",
   "id": "75fb01a3",
   "metadata": {},
   "source": [
    "#### Symmetry\n",
    "\n",
    "The function with ```if condition_a and condition_b:``` will result in the same variable as the function with ```if condition_b and condition_a:```"
   ]
  },
  {
   "cell_type": "code",
   "execution_count": null,
   "id": "4a8a7c99",
   "metadata": {},
   "outputs": [],
   "source": [
    "# function definition\n",
    "def {function_name}({parameter}):\n",
    "    if {condition_a and condition_b}:\n",
    "        {statement}\n",
    "    return {variable}"
   ]
  },
  {
   "cell_type": "code",
   "execution_count": null,
   "id": "867058be",
   "metadata": {},
   "outputs": [],
   "source": [
    "# function definition\n",
    "def {function_name}({parameter}):\n",
    "    if {condition_b and condition_a}:\n",
    "        {statement}\n",
    "    return {variable}"
   ]
  },
  {
   "cell_type": "markdown",
   "id": "6be7fac6",
   "metadata": {},
   "source": [
    "#### Conjunction\n",
    "\n",
    "One code includes two functions containing ```if condition_a:``` with ```statement_a``` and ```if condition_b:``` with ```statement_b``` and another includes only one function having ```if condition_a and condition_b:``` with both ```statement_a``` and ```statement_b```. The two variables after two codes should be the same."
   ]
  },
  {
   "cell_type": "code",
   "execution_count": null,
   "id": "cf236efc",
   "metadata": {},
   "outputs": [],
   "source": [
    "# function definition\n",
    "def {function_name}({parameter}):\n",
    "    if {condition_a}:\n",
    "        {statement_a}\n",
    "    if {condition_b}:\n",
    "        {statement_b}\n",
    "    return {variable}"
   ]
  },
  {
   "cell_type": "code",
   "execution_count": null,
   "id": "eddee26f",
   "metadata": {},
   "outputs": [],
   "source": [
    "# function definition\n",
    "def {function_name}({parameter}):\n",
    "    if {condition_a and condition_b}:\n",
    "        {statement_a}\n",
    "        {statement_b}\n",
    "    return {variable}"
   ]
  },
  {
   "cell_type": "markdown",
   "id": "7abe08c4",
   "metadata": {},
   "source": [
    "#### Disjunction\n",
    "\n",
    "One code containing ```if condition_a:``` and ```if condition_b:``` with same ```statement_a``` and another includes only one function having ```if condition_a or condition_b:```. The two variables after two codes should be the same."
   ]
  },
  {
   "cell_type": "code",
   "execution_count": null,
   "id": "95e3c329",
   "metadata": {},
   "outputs": [],
   "source": [
    "# function definition\n",
    "def {function_name}({parameter}):\n",
    "    if {condition_a}:\n",
    "        {statement_a}\n",
    "    if {condition_b}:\n",
    "        {statement_a}\n",
    "    return {variable}"
   ]
  },
  {
   "cell_type": "code",
   "execution_count": null,
   "id": "021ae7db",
   "metadata": {},
   "outputs": [],
   "source": [
    "# function definition\n",
    "def {function_name}({parameter}):\n",
    "    if {condition_a or condition_b}:\n",
    "        {statement_a}\n",
    "    return {variable}"
   ]
  },
  {
   "cell_type": "markdown",
   "id": "2e618f4b",
   "metadata": {},
   "source": [
    "#### Negation\n",
    "\n",
    "The example can be set to originally execute ```statement_a```. One code including ```if condition_a:``` will results in the execution of ```statement b```. The other including ```if not condition_a:``` will results the unchange of execution of ```statement_a```."
   ]
  },
  {
   "cell_type": "code",
   "execution_count": null,
   "id": "0cddf9bf",
   "metadata": {},
   "outputs": [],
   "source": [
    "# function definition\n",
    "def {function_name}({parameter}):\n",
    "    {statement_a}\n",
    "    if {condition_a}:\n",
    "        {statement_b}\n",
    "    return {variable}"
   ]
  },
  {
   "cell_type": "code",
   "execution_count": null,
   "id": "81b5cc79",
   "metadata": {},
   "outputs": [],
   "source": [
    "# function definition\n",
    "def {function_name}({parameter}):\n",
    "    {statement a}\n",
    "    if not {condition_a}:\n",
    "        {statement_b}\n",
    "    return {variable}"
   ]
  },
  {
   "cell_type": "markdown",
   "id": "7d1c9f20",
   "metadata": {},
   "source": [
    "#### Elseif\n",
    "\n",
    "The example can be set to test whether ```elif``` and ```else``` can funtion well. According to the different conditions, the funciton will execute different statement."
   ]
  },
  {
   "cell_type": "code",
   "execution_count": null,
   "id": "dae75277",
   "metadata": {},
   "outputs": [],
   "source": [
    "# function definition\n",
    "def {function_name}({parameter}):\n",
    "    if {condition_a}:\n",
    "        {statement_a}\n",
    "    elif {condition_b}:\n",
    "        {statement_b}\n",
    "    else:\n",
    "        {statement_c}\n",
    "    return {variable}"
   ]
  },
  {
   "cell_type": "markdown",
   "id": "99772d58",
   "metadata": {},
   "source": [
    "\n",
    "### Invariance Test (INV)\n",
    "\n",
    "If the condition ```if condition_a:``` repeats for several times, we can change the parameter, condition and statement. This test will ensure that the parameter and statement are working accordingly instead of messing up various parameters and statements. For example, in the following example, the function of ```parameter_a```, ```condition_a``` and ```statement_a``` will not mess up with the function of ```parameter_b```, ```condition_b``` and ```statement_b```. There will be no function with ```parameter_a``` with ```condition_b``` to make sure that this code can be used for multiple times."
   ]
  },
  {
   "cell_type": "code",
   "execution_count": null,
   "id": "566ee06e",
   "metadata": {},
   "outputs": [],
   "source": [
    "# function definition\n",
    "def {function_name}({parameter_a}):\n",
    "    if {condition_a}:\n",
    "        {statement_a}\n",
    "    return {variable}"
   ]
  },
  {
   "cell_type": "code",
   "execution_count": null,
   "id": "5a696e43",
   "metadata": {},
   "outputs": [],
   "source": [
    "# function definition\n",
    "def {function_name}({parameter_b}):\n",
    "    if {condition_b}:\n",
    "        {statement_b}\n",
    "    return {variable}"
   ]
  },
  {
   "cell_type": "markdown",
   "id": "694ea54c",
   "metadata": {},
   "source": [
    "\n",
    "### Directional Expectation Test (DIR)\n",
    "\n",
    "If the condition is added with conjunction with True ```if condition_a or True```, the variable will always execute ```statement_a```."
   ]
  },
  {
   "cell_type": "code",
   "execution_count": null,
   "id": "e4d0d82e",
   "metadata": {},
   "outputs": [],
   "source": [
    "# function definition\n",
    "def {function_name}({parameter}):\n",
    "    if {condition_a} or True:\n",
    "        {statement_a}\n",
    "    return {variable}"
   ]
  }
 ],
 "metadata": {
  "kernelspec": {
   "display_name": "Python 3 (ipykernel)",
   "language": "python",
   "name": "python3"
  },
  "language_info": {
   "codemirror_mode": {
    "name": "ipython",
    "version": 3
   },
   "file_extension": ".py",
   "mimetype": "text/x-python",
   "name": "python",
   "nbconvert_exporter": "python",
   "pygments_lexer": "ipython3",
   "version": "3.10.4"
  }
 },
 "nbformat": 4,
 "nbformat_minor": 5
}
